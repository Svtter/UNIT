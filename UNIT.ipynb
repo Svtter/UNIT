{
 "cells": [
  {
   "cell_type": "markdown",
   "metadata": {},
   "source": [
    "# UNIT\n",
    "\n",
    "- hugging-face: https://huggingface.co/yeeaa/UNIT_600M/tree/main\n",
    "\n"
   ]
  },
  {
   "cell_type": "code",
   "execution_count": 1,
   "metadata": {},
   "outputs": [],
   "source": [
    "# !git clone https://github.com/yeezhu/UNIT.git"
   ]
  },
  {
   "cell_type": "code",
   "execution_count": 3,
   "metadata": {},
   "outputs": [],
   "source": [
    "import torch\n",
    "from PIL import Image\n",
    "from transformers import CLIPImageProcessor\n",
    "\n",
    "from unit import UNITModel\n",
    "\n",
    "### uncomment to use Ascend NPU\n",
    "# import torch_npu\n",
    "# from torch_npu.npu import amp\n",
    "# from torch_npu.contrib import transfer_to_npu\n",
    "\n",
    "model_name = \"yeeaa/UNIT_600M\"\n",
    "\n",
    "# use UNIT_600M model\n",
    "# model_path = \"/path/to/UNIT_600M/\"\n",
    "model_path = model_name\n",
    "\n",
    "### uncomment to use UNIT_1B model\n",
    "# model_path = \"/path/to/UNIT_1B/\"\n",
    "\n",
    "# model = UNITModel.from_pretrained(model_path)\n",
    "model = UNITModel.from_pretrained(model_name)\n",
    "\n",
    "model.to(device=\"cuda\")\n",
    "model.eval()\n",
    "\n",
    "image_processor = CLIPImageProcessor.from_pretrained(model_path)"
   ]
  },
  {
   "cell_type": "code",
   "execution_count": null,
   "metadata": {},
   "outputs": [],
   "source": [
    "from metercls.libs.testor import ImageTestor\n",
    "\n",
    "\n",
    "class Testor(ImageTestor):\n",
    "  def preprocess_image(self, image):\n",
    "    image_input = image_processor(image)[\"pixel_values\"][0]\n",
    "    image_tensor = torch.tensor(image_input).unsqueeze(0).to(torch.bfloat16).cuda()\n",
    "    return image_tensor\n",
    "\n",
    "  def predict(self, image_tensor):\n",
    "    with torch.set_grad_enabled(False):\n",
    "      cls_tokens, spatial_tokens = model(image_tensor)\n",
    "    return cls_tokens, spatial_tokens\n",
    "    ### Note: Applying a LayerNorm layer to these tokens is crucial before feeding them into LLMs."
   ]
  }
 ],
 "metadata": {
  "kernelspec": {
   "display_name": ".venv",
   "language": "python",
   "name": "python3"
  },
  "language_info": {
   "codemirror_mode": {
    "name": "ipython",
    "version": 3
   },
   "file_extension": ".py",
   "mimetype": "text/x-python",
   "name": "python",
   "nbconvert_exporter": "python",
   "pygments_lexer": "ipython3",
   "version": "3.10.8"
  }
 },
 "nbformat": 4,
 "nbformat_minor": 2
}
